{
  "nbformat": 4,
  "nbformat_minor": 0,
  "metadata": {
    "colab": {
      "name": "POS.ipynb",
      "provenance": [],
      "collapsed_sections": []
    },
    "kernelspec": {
      "name": "python3",
      "display_name": "Python 3"
    }
  },
  "cells": [
    {
      "cell_type": "code",
      "metadata": {
        "id": "PtW6kEylkhU6",
        "colab_type": "code",
        "colab": {
          "base_uri": "https://localhost:8080/",
          "height": 73
        },
        "outputId": "97ac762d-6493-4beb-b0d2-47ed230c05dd"
      },
      "source": [
        "nltk.download('punkt')"
      ],
      "execution_count": 4,
      "outputs": [
        {
          "output_type": "stream",
          "text": [
            "[nltk_data] Downloading package punkt to /root/nltk_data...\n",
            "[nltk_data]   Unzipping tokenizers/punkt.zip.\n"
          ],
          "name": "stdout"
        },
        {
          "output_type": "execute_result",
          "data": {
            "text/plain": [
              "True"
            ]
          },
          "metadata": {
            "tags": []
          },
          "execution_count": 4
        }
      ]
    },
    {
      "cell_type": "code",
      "metadata": {
        "id": "I5fKC_5YkmtQ",
        "colab_type": "code",
        "colab": {
          "base_uri": "https://localhost:8080/",
          "height": 92
        },
        "outputId": "e6decdd8-3fe8-4492-8826-f98fdccfd21b"
      },
      "source": [
        "nltk.download('averaged_perceptron_tagger')"
      ],
      "execution_count": 6,
      "outputs": [
        {
          "output_type": "stream",
          "text": [
            "[nltk_data] Downloading package averaged_perceptron_tagger to\n",
            "[nltk_data]     /root/nltk_data...\n",
            "[nltk_data]   Unzipping taggers/averaged_perceptron_tagger.zip.\n"
          ],
          "name": "stdout"
        },
        {
          "output_type": "execute_result",
          "data": {
            "text/plain": [
              "True"
            ]
          },
          "metadata": {
            "tags": []
          },
          "execution_count": 6
        }
      ]
    },
    {
      "cell_type": "code",
      "metadata": {
        "id": "mzNTEklJpoVK",
        "colab_type": "code",
        "colab": {
          "base_uri": "https://localhost:8080/",
          "height": 73
        },
        "outputId": "4d2d1c35-98af-4d5b-8bdf-bb93373b94a4"
      },
      "source": [
        "nltk.download('stopwords')"
      ],
      "execution_count": 34,
      "outputs": [
        {
          "output_type": "stream",
          "text": [
            "[nltk_data] Downloading package stopwords to /root/nltk_data...\n",
            "[nltk_data]   Unzipping corpora/stopwords.zip.\n"
          ],
          "name": "stdout"
        },
        {
          "output_type": "execute_result",
          "data": {
            "text/plain": [
              "True"
            ]
          },
          "metadata": {
            "tags": []
          },
          "execution_count": 34
        }
      ]
    },
    {
      "cell_type": "code",
      "metadata": {
        "id": "jMWbDufCkHXa",
        "colab_type": "code",
        "colab": {}
      },
      "source": [
        "import nltk\n",
        "from nltk.corpus import stopwords \n",
        "from nltk.tokenize import word_tokenize, sent_tokenize \n",
        "stop_words = set(stopwords.words('english')) \n",
        "\n",
        "Fil = open('news.txt')\n",
        "lin = Fil.read()\n",
        "tai = nltk.sent_tokenize(lin)\n",
        "nouns = []\n",
        "verbs=[]\n",
        "adjective=[]\n",
        "adverb=[]\n",
        "pronoun=[]\n",
        "conjunction=[]\n",
        "interjection=[]\n",
        "other_parts_speech=[]\n",
        "for sentence in sentences:\n",
        "     for word,pos in nltk.pos_tag(nltk.word_tokenize(str(sentence))):\n",
        "         if (pos == 'NN' or pos == 'NNP' or pos == 'NNS' or pos == 'NNPS'):\n",
        "             nouns.append(word)\n",
        "         if (pos == 'VB' or pos == 'VBD' or pos == 'VBG' or pos == 'VBN' or pos == 'VBN' or pos == 'VBP' or pos == 'VBZ'):\n",
        "             verbs.append(word)\n",
        "         if (pos == 'WRB' or pos == 'RB' or pos == 'RBR' or pos == 'RBS'):\n",
        "             adverb.append(word)\n",
        "         if (pos == 'JJ' or pos == 'JJR' or pos == 'JJS'):\n",
        "             adjective.append(word)\n",
        "         if (pos == 'PRP' or pos == 'PRP$' or pos == 'WP'):\n",
        "             pronoun.append(word)\n",
        "         if (pos == 'UH'):\n",
        "             interjection.append(word)\n",
        "         if (pos == 'CC'):\n",
        "             conjunction.append(word)\n",
        "         else:\n",
        "             other_parts_speech.append(word)\n"
      ],
      "execution_count": 35,
      "outputs": []
    },
    {
      "cell_type": "code",
      "metadata": {
        "id": "s8Iy3Aigl8IF",
        "colab_type": "code",
        "colab": {
          "base_uri": "https://localhost:8080/",
          "height": 279
        },
        "outputId": "4bd05a2b-d72f-4bb4-a108-9522c15d2652"
      },
      "source": [
        "\n",
        "print('count of Nouns:'+str(len(nouns)))\n",
        "print('Nouns:')\n",
        "nouns\n"
      ],
      "execution_count": 36,
      "outputs": [
        {
          "output_type": "stream",
          "text": [
            "Nouns:\n",
            "count of Nouns:43\n",
            "Verb:\n",
            "count of Verb:20\n",
            "Adjective:\n",
            "count of Adjective:18\n",
            "Adverb:\n",
            "count of Adverb:6\n",
            "Pronoun:\n",
            "count of Pronoun:3\n",
            "Conjunction\n",
            "count of Conjunction5\n",
            "Other POS\n",
            "count of Other POS154\n"
          ],
          "name": "stdout"
        }
      ]
    },
    {
      "cell_type": "code",
      "metadata": {
        "id": "BTpslHBory2Q",
        "colab_type": "code",
        "colab": {}
      },
      "source": [
        "print('count of Verb:'+str(len(verbs)))\n",
        "print('Verb:')\n",
        "verbs\n",
        "\n"
      ],
      "execution_count": null,
      "outputs": []
    },
    {
      "cell_type": "code",
      "metadata": {
        "id": "m2qux8LDsKWx",
        "colab_type": "code",
        "colab": {}
      },
      "source": [
        "print('count of Pronoun:'+str(len(pronoun)))\n",
        "print('Pronoun:')\n",
        "pronoun\n",
        "\n"
      ],
      "execution_count": null,
      "outputs": []
    },
    {
      "cell_type": "code",
      "metadata": {
        "id": "L0T_BlW2ryyl",
        "colab_type": "code",
        "colab": {}
      },
      "source": [
        "print('count of Adjective:'+str(len(adjective)))\n",
        "print('Adjective:')\n",
        "adjective\n"
      ],
      "execution_count": null,
      "outputs": []
    },
    {
      "cell_type": "code",
      "metadata": {
        "id": "UvSc2hVprywr",
        "colab_type": "code",
        "colab": {}
      },
      "source": [
        "print('count of Adverb:'+str(len(adverb)))\n",
        "print('Adverb:')\n",
        "adverb"
      ],
      "execution_count": null,
      "outputs": []
    },
    {
      "cell_type": "code",
      "metadata": {
        "id": "1G9_5hj4ryto",
        "colab_type": "code",
        "colab": {}
      },
      "source": [
        "print(\"count of Other POS\"+str(len(other_parts_speech)))\n",
        "print(\"Other POS\")\n",
        "other_parts_speech\n"
      ],
      "execution_count": null,
      "outputs": []
    },
    {
      "cell_type": "code",
      "metadata": {
        "id": "o1cln7ciryrF",
        "colab_type": "code",
        "colab": {}
      },
      "source": [
        "print('count of Conjunction'+str(len(conjunction)))\n",
        "print('Conjunction')\n",
        "conjunction\n",
        "\n"
      ],
      "execution_count": null,
      "outputs": []
    },
    {
      "cell_type": "code",
      "metadata": {
        "id": "MIIhRznBqI8l",
        "colab_type": "code",
        "colab": {
          "base_uri": "https://localhost:8080/",
          "height": 1000
        },
        "outputId": "31c9397c-28b2-44c9-b0e2-8ca6f9b1afdd"
      },
      "source": [
        "for sentence in tai:\n",
        "     for word,pos in nltk.pos_tag(nltk.word_tokenize(str(sentence))):\n",
        "       if (pos == 'NN' or pos == 'NNP' or pos == 'NNS' or pos == 'NNPS'):\n",
        "         print(\"WORD=\"+word+\"                \"+\"Parts of speech=\"+\"Noun\")\n",
        "       if (pos == 'VB' or pos == 'VBD' or pos == 'VBG' or pos == 'VBN' or pos == 'VBN' or pos == 'VBP' or pos == 'VBZ'):\n",
        "         print(\"WORD=\"+word+\"                \"+\"Parts of speech=\"+\"Verb\")\n",
        "       if (pos == 'WRB' or pos == 'RB' or pos == 'RBR' or pos == 'RBS'):\n",
        "             print(\"WORD=\"+word+\"                \"+\"Parts of speech=\"+\"Adverb\")\n",
        "       if (pos == 'JJ' or pos == 'JJR' or pos == 'JJS'):\n",
        "             print(\"WORD=\"+word+\"                \"+\"Parts of speech=\"+\"Adjective\")\n",
        "       if (pos == 'PRP' or pos == 'PRP$' or pos == 'WP'):\n",
        "             print(\"WORD=\"+word+\"                \"+\"Parts of speech=\"+\"pronoun\")\n",
        "       if (pos == 'CC'):\n",
        "             print(\"WORD=\"+word+\"                \"+\"Parts of speech=\"+\"Conjunction\")\n",
        "       else:\n",
        "         print(\"WORD=\"+word+\"                \"+\"Parts of speech=\"+\"Other Parts\")"
      ],
      "execution_count": 44,
      "outputs": [
        {
          "output_type": "stream",
          "text": [
            "WORD=Eight                Parts of speech=Other Parts\n",
            "WORD=deaths                Parts of speech=Noun\n",
            "WORD=deaths                Parts of speech=Other Parts\n",
            "WORD=from                Parts of speech=Other Parts\n",
            "WORD=Bengaluru                Parts of speech=Noun\n",
            "WORD=Bengaluru                Parts of speech=Other Parts\n",
            "WORD=were                Parts of speech=Verb\n",
            "WORD=were                Parts of speech=Other Parts\n",
            "WORD=among                Parts of speech=Other Parts\n",
            "WORD=12                Parts of speech=Other Parts\n",
            "WORD=Covid-19                Parts of speech=Adjective\n",
            "WORD=Covid-19                Parts of speech=Other Parts\n",
            "WORD=fatalities                Parts of speech=Noun\n",
            "WORD=fatalities                Parts of speech=Other Parts\n",
            "WORD=reported                Parts of speech=Verb\n",
            "WORD=reported                Parts of speech=Other Parts\n",
            "WORD=in                Parts of speech=Other Parts\n",
            "WORD=Karnataka                Parts of speech=Noun\n",
            "WORD=Karnataka                Parts of speech=Other Parts\n",
            "WORD=on                Parts of speech=Other Parts\n",
            "WORD=Thursday                Parts of speech=Noun\n",
            "WORD=Thursday                Parts of speech=Other Parts\n",
            "WORD=--                Parts of speech=Other Parts\n",
            "WORD=the                Parts of speech=Other Parts\n",
            "WORD=highest                Parts of speech=Adjective\n",
            "WORD=highest                Parts of speech=Other Parts\n",
            "WORD=single-day                Parts of speech=Adjective\n",
            "WORD=single-day                Parts of speech=Other Parts\n",
            "WORD=rise                Parts of speech=Noun\n",
            "WORD=rise                Parts of speech=Other Parts\n",
            "WORD=in                Parts of speech=Other Parts\n",
            "WORD=casualties                Parts of speech=Noun\n",
            "WORD=casualties                Parts of speech=Other Parts\n",
            "WORD=so                Parts of speech=Adverb\n",
            "WORD=so                Parts of speech=Other Parts\n",
            "WORD=far                Parts of speech=Adverb\n",
            "WORD=far                Parts of speech=Other Parts\n",
            "WORD=.                Parts of speech=Other Parts\n",
            "WORD=A                Parts of speech=Other Parts\n",
            "WORD=day                Parts of speech=Noun\n",
            "WORD=day                Parts of speech=Other Parts\n",
            "WORD=after                Parts of speech=Other Parts\n",
            "WORD=the                Parts of speech=Other Parts\n",
            "WORD=state                Parts of speech=Noun\n",
            "WORD=state                Parts of speech=Other Parts\n",
            "WORD='s                Parts of speech=Other Parts\n",
            "WORD=overall                Parts of speech=Adjective\n",
            "WORD=overall                Parts of speech=Other Parts\n",
            "WORD=toll                Parts of speech=Noun\n",
            "WORD=toll                Parts of speech=Other Parts\n",
            "WORD=crept                Parts of speech=Verb\n",
            "WORD=crept                Parts of speech=Other Parts\n",
            "WORD=past                Parts of speech=Adjective\n",
            "WORD=past                Parts of speech=Other Parts\n",
            "WORD=100                Parts of speech=Other Parts\n",
            "WORD=,                Parts of speech=Other Parts\n",
            "WORD=it                Parts of speech=pronoun\n",
            "WORD=it                Parts of speech=Other Parts\n",
            "WORD=raced                Parts of speech=Verb\n",
            "WORD=raced                Parts of speech=Other Parts\n",
            "WORD=to                Parts of speech=Other Parts\n",
            "WORD=114                Parts of speech=Other Parts\n",
            "WORD=.                Parts of speech=Other Parts\n",
            "WORD=The                Parts of speech=Other Parts\n",
            "WORD=other                Parts of speech=Adjective\n",
            "WORD=other                Parts of speech=Other Parts\n",
            "WORD=deaths                Parts of speech=Noun\n",
            "WORD=deaths                Parts of speech=Other Parts\n",
            "WORD=were                Parts of speech=Verb\n",
            "WORD=were                Parts of speech=Other Parts\n",
            "WORD=reported                Parts of speech=Verb\n",
            "WORD=reported                Parts of speech=Other Parts\n",
            "WORD=from                Parts of speech=Other Parts\n",
            "WORD=Kalaburagi                Parts of speech=Noun\n",
            "WORD=Kalaburagi                Parts of speech=Other Parts\n",
            "WORD=,                Parts of speech=Other Parts\n",
            "WORD=Bidar                Parts of speech=Noun\n",
            "WORD=Bidar                Parts of speech=Other Parts\n",
            "WORD=,                Parts of speech=Other Parts\n",
            "WORD=Vijayapura                Parts of speech=Noun\n",
            "WORD=Vijayapura                Parts of speech=Other Parts\n",
            "WORD=and                Parts of speech=Conjunction\n",
            "WORD=Koppal.The                Parts of speech=Noun\n",
            "WORD=Koppal.The                Parts of speech=Other Parts\n",
            "WORD=total                Parts of speech=Adjective\n",
            "WORD=total                Parts of speech=Other Parts\n",
            "WORD=number                Parts of speech=Noun\n",
            "WORD=number                Parts of speech=Other Parts\n",
            "WORD=of                Parts of speech=Other Parts\n",
            "WORD=infections                Parts of speech=Noun\n",
            "WORD=infections                Parts of speech=Other Parts\n",
            "WORD=rose                Parts of speech=Verb\n",
            "WORD=rose                Parts of speech=Other Parts\n",
            "WORD=to                Parts of speech=Other Parts\n",
            "WORD=7,944                Parts of speech=Other Parts\n",
            "WORD=,                Parts of speech=Other Parts\n",
            "WORD=adding                Parts of speech=Verb\n",
            "WORD=adding                Parts of speech=Other Parts\n",
            "WORD=201                Parts of speech=Other Parts\n",
            "WORD=cases                Parts of speech=Noun\n",
            "WORD=cases                Parts of speech=Other Parts\n",
            "WORD=in                Parts of speech=Other Parts\n",
            "WORD=the                Parts of speech=Other Parts\n",
            "WORD=past                Parts of speech=Adjective\n",
            "WORD=past                Parts of speech=Other Parts\n",
            "WORD=24                Parts of speech=Other Parts\n",
            "WORD=hours.Medical                Parts of speech=Adjective\n",
            "WORD=hours.Medical                Parts of speech=Other Parts\n",
            "WORD=experts                Parts of speech=Noun\n",
            "WORD=experts                Parts of speech=Other Parts\n",
            "WORD=said                Parts of speech=Verb\n",
            "WORD=said                Parts of speech=Other Parts\n",
            "WORD=fear                Parts of speech=Noun\n",
            "WORD=fear                Parts of speech=Other Parts\n",
            "WORD=of                Parts of speech=Other Parts\n",
            "WORD=disruption                Parts of speech=Noun\n",
            "WORD=disruption                Parts of speech=Other Parts\n",
            "WORD=,                Parts of speech=Other Parts\n",
            "WORD=stigma                Parts of speech=Noun\n",
            "WORD=stigma                Parts of speech=Other Parts\n",
            "WORD=and                Parts of speech=Conjunction\n",
            "WORD=quarantine                Parts of speech=Noun\n",
            "WORD=quarantine                Parts of speech=Other Parts\n",
            "WORD=for                Parts of speech=Other Parts\n",
            "WORD=the                Parts of speech=Other Parts\n",
            "WORD=entire                Parts of speech=Adjective\n",
            "WORD=entire                Parts of speech=Other Parts\n",
            "WORD=family                Parts of speech=Noun\n",
            "WORD=family                Parts of speech=Other Parts\n",
            "WORD=is                Parts of speech=Verb\n",
            "WORD=is                Parts of speech=Other Parts\n",
            "WORD=leading                Parts of speech=Verb\n",
            "WORD=leading                Parts of speech=Other Parts\n",
            "WORD=to                Parts of speech=Other Parts\n",
            "WORD=late                Parts of speech=Adjective\n",
            "WORD=late                Parts of speech=Other Parts\n",
            "WORD=presentation                Parts of speech=Noun\n",
            "WORD=presentation                Parts of speech=Other Parts\n",
            "WORD=of                Parts of speech=Other Parts\n",
            "WORD=cases                Parts of speech=Noun\n",
            "WORD=cases                Parts of speech=Other Parts\n",
            "WORD=and                Parts of speech=Conjunction\n",
            "WORD=deaths                Parts of speech=Noun\n",
            "WORD=deaths                Parts of speech=Other Parts\n",
            "WORD=.                Parts of speech=Other Parts\n",
            "WORD=Comorbidities                Parts of speech=Noun\n",
            "WORD=Comorbidities                Parts of speech=Other Parts\n",
            "WORD=and                Parts of speech=Conjunction\n",
            "WORD=late                Parts of speech=Adjective\n",
            "WORD=late                Parts of speech=Other Parts\n",
            "WORD=referrals                Parts of speech=Noun\n",
            "WORD=referrals                Parts of speech=Other Parts\n",
            "WORD=too                Parts of speech=Adverb\n",
            "WORD=too                Parts of speech=Other Parts\n",
            "WORD=are                Parts of speech=Verb\n",
            "WORD=are                Parts of speech=Other Parts\n",
            "WORD=major                Parts of speech=Adjective\n",
            "WORD=major                Parts of speech=Other Parts\n",
            "WORD=concerns                Parts of speech=Noun\n",
            "WORD=concerns                Parts of speech=Other Parts\n",
            "WORD=,                Parts of speech=Other Parts\n",
            "WORD=they                Parts of speech=pronoun\n",
            "WORD=they                Parts of speech=Other Parts\n",
            "WORD=said.Bengaluru                Parts of speech=Verb\n",
            "WORD=said.Bengaluru                Parts of speech=Other Parts\n",
            "WORD=has                Parts of speech=Verb\n",
            "WORD=has                Parts of speech=Other Parts\n",
            "WORD=reported                Parts of speech=Verb\n",
            "WORD=reported                Parts of speech=Other Parts\n",
            "WORD=at                Parts of speech=Other Parts\n",
            "WORD=least                Parts of speech=Adjective\n",
            "WORD=least                Parts of speech=Other Parts\n",
            "WORD=seven                Parts of speech=Other Parts\n",
            "WORD=deaths                Parts of speech=Noun\n",
            "WORD=deaths                Parts of speech=Other Parts\n",
            "WORD=every                Parts of speech=Other Parts\n",
            "WORD=day                Parts of speech=Noun\n",
            "WORD=day                Parts of speech=Other Parts\n",
            "WORD=for                Parts of speech=Other Parts\n",
            "WORD=the                Parts of speech=Other Parts\n",
            "WORD=past                Parts of speech=Adjective\n",
            "WORD=past                Parts of speech=Other Parts\n",
            "WORD=three                Parts of speech=Other Parts\n",
            "WORD=days                Parts of speech=Noun\n",
            "WORD=days                Parts of speech=Other Parts\n",
            "WORD=and                Parts of speech=Conjunction\n",
            "WORD=the                Parts of speech=Other Parts\n",
            "WORD=city                Parts of speech=Noun\n",
            "WORD=city                Parts of speech=Other Parts\n",
            "WORD=accounts                Parts of speech=Noun\n",
            "WORD=accounts                Parts of speech=Other Parts\n",
            "WORD=for                Parts of speech=Other Parts\n",
            "WORD=45                Parts of speech=Other Parts\n",
            "WORD=%                Parts of speech=Noun\n",
            "WORD=%                Parts of speech=Other Parts\n",
            "WORD=of                Parts of speech=Other Parts\n",
            "WORD=the                Parts of speech=Other Parts\n",
            "WORD=state                Parts of speech=Noun\n",
            "WORD=state                Parts of speech=Other Parts\n",
            "WORD='s                Parts of speech=Other Parts\n",
            "WORD=fatalities                Parts of speech=Noun\n",
            "WORD=fatalities                Parts of speech=Other Parts\n",
            "WORD=.                Parts of speech=Other Parts\n",
            "WORD=Of                Parts of speech=Other Parts\n",
            "WORD=the                Parts of speech=Other Parts\n",
            "WORD=51                Parts of speech=Other Parts\n",
            "WORD=deaths                Parts of speech=Noun\n",
            "WORD=deaths                Parts of speech=Other Parts\n",
            "WORD=in                Parts of speech=Other Parts\n",
            "WORD=Bengaluru                Parts of speech=Noun\n",
            "WORD=Bengaluru                Parts of speech=Other Parts\n",
            "WORD=so                Parts of speech=Adverb\n",
            "WORD=so                Parts of speech=Other Parts\n",
            "WORD=far                Parts of speech=Adverb\n",
            "WORD=far                Parts of speech=Other Parts\n",
            "WORD=,                Parts of speech=Other Parts\n",
            "WORD=experts                Parts of speech=Noun\n",
            "WORD=experts                Parts of speech=Other Parts\n",
            "WORD=said                Parts of speech=Verb\n",
            "WORD=said                Parts of speech=Other Parts\n",
            "WORD=,                Parts of speech=Other Parts\n",
            "WORD=at                Parts of speech=Other Parts\n",
            "WORD=least                Parts of speech=Adjective\n",
            "WORD=least                Parts of speech=Other Parts\n",
            "WORD=15                Parts of speech=Other Parts\n",
            "WORD=were                Parts of speech=Verb\n",
            "WORD=were                Parts of speech=Other Parts\n",
            "WORD=due                Parts of speech=Adjective\n",
            "WORD=due                Parts of speech=Other Parts\n",
            "WORD=to                Parts of speech=Other Parts\n",
            "WORD=patients                Parts of speech=Noun\n",
            "WORD=patients                Parts of speech=Other Parts\n",
            "WORD=coming                Parts of speech=Verb\n",
            "WORD=coming                Parts of speech=Other Parts\n",
            "WORD=to                Parts of speech=Other Parts\n",
            "WORD=hospital                Parts of speech=Verb\n",
            "WORD=hospital                Parts of speech=Other Parts\n",
            "WORD=only                Parts of speech=Adverb\n",
            "WORD=only                Parts of speech=Other Parts\n",
            "WORD=after                Parts of speech=Other Parts\n",
            "WORD=they                Parts of speech=pronoun\n",
            "WORD=they                Parts of speech=Other Parts\n",
            "WORD=developed                Parts of speech=Verb\n",
            "WORD=developed                Parts of speech=Other Parts\n",
            "WORD=severe                Parts of speech=Adjective\n",
            "WORD=severe                Parts of speech=Other Parts\n",
            "WORD=symptoms                Parts of speech=Noun\n",
            "WORD=symptoms                Parts of speech=Other Parts\n",
            "WORD=.                Parts of speech=Other Parts\n"
          ],
          "name": "stdout"
        }
      ]
    },
    {
      "cell_type": "code",
      "metadata": {
        "id": "PBftfO08p56C",
        "colab_type": "code",
        "colab": {
          "base_uri": "https://localhost:8080/",
          "height": 131
        },
        "outputId": "725b3a71-914e-48d3-d4ab-360197a76bdf"
      },
      "source": [
        "tai"
      ],
      "execution_count": 39,
      "outputs": [
        {
          "output_type": "execute_result",
          "data": {
            "text/plain": [
              "['Eight deaths from Bengaluru were among 12 Covid-19 fatalities reported in Karnataka on Thursday -- the highest single-day rise in casualties so far.',\n",
              " \"A day after the state's overall toll crept past 100, it raced to 114.\",\n",
              " 'The other deaths were reported from Kalaburagi, Bidar, Vijayapura and Koppal.The total number of infections rose to 7,944, adding 201 cases in the past 24 hours.Medical experts said fear of disruption, stigma and quarantine for the entire family is leading to late presentation of cases and deaths.',\n",
              " \"Comorbidities and late referrals too are major concerns, they said.Bengaluru has reported at least seven deaths every day for the past three days and the city accounts for 45% of the state's fatalities.\",\n",
              " 'Of the 51 deaths in Bengaluru so far, experts said, at least 15 were due to patients coming to hospital only after they developed severe symptoms.']"
            ]
          },
          "metadata": {
            "tags": []
          },
          "execution_count": 39
        }
      ]
    },
    {
      "cell_type": "code",
      "metadata": {
        "id": "8uZ6-4Roln-M",
        "colab_type": "code",
        "colab": {
          "base_uri": "https://localhost:8080/",
          "height": 392
        },
        "outputId": "3cdb9df2-091e-4472-bc1b-52d3141afc2e"
      },
      "source": [
        "verbs"
      ],
      "execution_count": 16,
      "outputs": [
        {
          "output_type": "execute_result",
          "data": {
            "text/plain": [
              "['were',\n",
              " 'reported',\n",
              " 'crept',\n",
              " 'raced',\n",
              " 'were',\n",
              " 'reported',\n",
              " 'rose',\n",
              " 'adding',\n",
              " 'said',\n",
              " 'is',\n",
              " 'leading',\n",
              " 'are',\n",
              " 'said.Bengaluru',\n",
              " 'has',\n",
              " 'reported',\n",
              " 'said',\n",
              " 'were',\n",
              " 'coming',\n",
              " 'hospital',\n",
              " 'developed']"
            ]
          },
          "metadata": {
            "tags": []
          },
          "execution_count": 16
        }
      ]
    },
    {
      "cell_type": "code",
      "metadata": {
        "id": "bS6tK227lqpu",
        "colab_type": "code",
        "colab": {
          "base_uri": "https://localhost:8080/",
          "height": 36
        },
        "outputId": "326a46f5-d919-4d2f-8e19-f0fbdfc61eba"
      },
      "source": [
        "adverb"
      ],
      "execution_count": 18,
      "outputs": [
        {
          "output_type": "execute_result",
          "data": {
            "text/plain": [
              "['so', 'far', 'too', 'so', 'far', 'only']"
            ]
          },
          "metadata": {
            "tags": []
          },
          "execution_count": 18
        }
      ]
    },
    {
      "cell_type": "code",
      "metadata": {
        "id": "qgdOaq2GltRb",
        "colab_type": "code",
        "colab": {
          "base_uri": "https://localhost:8080/",
          "height": 36
        },
        "outputId": "993223a4-ac0f-43ca-ae52-25e6e70a1176"
      },
      "source": [
        "conjunction"
      ],
      "execution_count": 20,
      "outputs": [
        {
          "output_type": "execute_result",
          "data": {
            "text/plain": [
              "['and', 'and', 'and', 'and', 'and']"
            ]
          },
          "metadata": {
            "tags": []
          },
          "execution_count": 20
        }
      ]
    },
    {
      "cell_type": "code",
      "metadata": {
        "id": "VawfezgFlxb0",
        "colab_type": "code",
        "colab": {
          "base_uri": "https://localhost:8080/",
          "height": 36
        },
        "outputId": "315ff2d1-0127-4c65-d919-66db182b69df"
      },
      "source": [
        "interjection"
      ],
      "execution_count": 21,
      "outputs": [
        {
          "output_type": "execute_result",
          "data": {
            "text/plain": [
              "[]"
            ]
          },
          "metadata": {
            "tags": []
          },
          "execution_count": 21
        }
      ]
    },
    {
      "cell_type": "code",
      "metadata": {
        "id": "s6rgdMknl1lW",
        "colab_type": "code",
        "colab": {}
      },
      "source": [
        ""
      ],
      "execution_count": null,
      "outputs": []
    }
  ]
}